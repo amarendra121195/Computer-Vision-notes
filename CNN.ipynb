{
 "cells": [
  {
   "cell_type": "code",
   "execution_count": 1,
   "id": "ab055376",
   "metadata": {},
   "outputs": [
    {
     "name": "stdout",
     "output_type": "stream",
     "text": [
      "Found 6 images belonging to 2 classes.\n",
      "Found 6 images belonging to 2 classes.\n"
     ]
    },
    {
     "name": "stderr",
     "output_type": "stream",
     "text": [
      "C:\\Users\\Amarendra Kumar\\AppData\\Local\\Temp\\ipykernel_12520\\4006631951.py:57: UserWarning: `Model.fit_generator` is deprecated and will be removed in a future version. Please use `Model.fit`, which supports generators.\n",
      "  model=classifier.fit_generator(training_set,\n"
     ]
    },
    {
     "name": "stdout",
     "output_type": "stream",
     "text": [
      "   1/8000 [..............................] - ETA: 6:03:06 - loss: 0.6770 - accuracy: 0.6667WARNING:tensorflow:Your input ran out of data; interrupting training. Make sure that your dataset or generator can generate at least `steps_per_epoch * epochs` batches (in this case, 8000 batches). You may need to use the repeat() function when building your dataset.\n",
      "WARNING:tensorflow:Your input ran out of data; interrupting training. Make sure that your dataset or generator can generate at least `steps_per_epoch * epochs` batches (in this case, 2000 batches). You may need to use the repeat() function when building your dataset.\n",
      "8000/8000 [==============================] - 5s 281us/step - loss: 0.6770 - accuracy: 0.6667 - val_loss: 3.0226 - val_accuracy: 0.6667\n",
      "Saved model to disk\n"
     ]
    }
   ],
   "source": [
    "from keras.models import Sequential\n",
    "from keras.layers import Conv2D\n",
    "from keras.layers import MaxPooling2D\n",
    "from keras.layers import Flatten\n",
    "from keras.layers import Dense\n",
    "\n",
    "# part 1- Initialising the cnn\n",
    "classifier=Sequential()\n",
    "\n",
    "classifier.add(Conv2D(32,(3,3),input_shape=(64,64,3),activation='relu'))\n",
    "\n",
    "# classifier.add(Conv2D(64,(3,3),activation='relu'))\n",
    "# classifier.add(MaxPooling2D(pool_size=(2,2)))\n",
    "\n",
    "# classifier.add(Conv2D(20,(5,5),activation='tanh'))\n",
    "\n",
    "classifier.add(Conv2D(64,(3,3),activation='relu'))\n",
    "classifier.add(MaxPooling2D(pool_size=(2,2)))\n",
    "\n",
    "# Flattening\n",
    "classifier.add(Flatten())\n",
    "\n",
    "# Full connection\n",
    "classifier.add(Dense(units=128,activation='relu'))\n",
    "\n",
    "# classifier.add(Dense(units=128,activation='relu'))\n",
    "# classifier.add(Dense(units=128,activation='relu'))\n",
    "\n",
    "# classifier.add(Dense(units=128,activation='relu'))\n",
    "\n",
    "# classifier.add(Dense(units=128,activation='relu'))\n",
    "\n",
    "# classifier.add(Dense(units=128,activation='relu'))\n",
    "\n",
    "classifier.add(Dense(units=1,activation='sigmoid'))\n",
    "\n",
    "\n",
    "# compiling the CNN\n",
    "classifier.compile(optimizer='adam',loss='binary_crossentropy',metrics=['accuracy'])\n",
    "\n",
    "\n",
    "# part 2 - fitting the CNN to the images\n",
    "\n",
    "from keras.preprocessing.image import ImageDataGenerator\n",
    "\n",
    "train_datagen=ImageDataGenerator(rescale=1./255)\n",
    "test_datagen=ImageDataGenerator(rescale=1./255)\n",
    "\n",
    "training_set=train_datagen.flow_from_directory('C:/master',\n",
    "                                              target_size=(64,64),\n",
    "                                              batch_size=32,\n",
    "                                              class_mode='binary')\n",
    "test_set=test_datagen.flow_from_directory('C:/master',\n",
    "                                              target_size=(64,64),\n",
    "                                              batch_size=32,\n",
    "                                              class_mode='binary')\n",
    "model=classifier.fit_generator(training_set,\n",
    "                               steps_per_epoch=8000,\n",
    "                              epochs=1,\n",
    "                              validation_data=test_set,\n",
    "                              validation_steps=2000)\n",
    "\n",
    "classifier.save('model.h5')\n",
    "print('Saved model to disk')\n"
   ]
  },
  {
   "cell_type": "code",
   "execution_count": null,
   "id": "769215dc",
   "metadata": {},
   "outputs": [],
   "source": [
    "# Part 3 - making new predictions\n",
    "import numpy as np\n",
    "from keras.preprocessing import image\n",
    "test_image=image.load_img(\"\",target_size=(64,64))\n",
    "test_image=image.img_to_array(test_image)\n",
    "test_imagenp.expand_dims(test_image,axis=0)\n",
    "result=model.predict(test_image)\n",
    "training_set.class_indices\n",
    "if result[0][0]==1:\n",
    "    prediction='dog'\n",
    "    print(prediction)\n",
    "else:\n",
    "    prediction='cat'\n",
    "    print(prediction)"
   ]
  },
  {
   "cell_type": "code",
   "execution_count": null,
   "id": "fcb02c9c",
   "metadata": {},
   "outputs": [],
   "source": []
  }
 ],
 "metadata": {
  "kernelspec": {
   "display_name": "Python 3 (ipykernel)",
   "language": "python",
   "name": "python3"
  },
  "language_info": {
   "codemirror_mode": {
    "name": "ipython",
    "version": 3
   },
   "file_extension": ".py",
   "mimetype": "text/x-python",
   "name": "python",
   "nbconvert_exporter": "python",
   "pygments_lexer": "ipython3",
   "version": "3.9.13"
  }
 },
 "nbformat": 4,
 "nbformat_minor": 5
}
